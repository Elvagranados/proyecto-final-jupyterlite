{
 "cells": [
  {
   "cell_type": "markdown",
   "id": "84ba6450",
   "metadata": {},
   "source": [
    "# Proyecto Final de Ciencia de Datos"
   ]
  },
  {
   "cell_type": "markdown",
   "id": "70568b77",
   "metadata": {},
   "source": [
    "Este cuaderno forma parte del proyecto final del curso de Ciencia de Datos. Aquí se aplican conocimientos básicos como lenguajes, bibliotecas y herramientas clave de la ciencia de datos, junto con ejemplos prácticos de expresiones aritméticas y código Python."
   ]
  },
  {
   "cell_type": "markdown",
   "id": "550ed27f",
   "metadata": {},
   "source": [
    "## Lenguajes de Programación en Ciencia de Datos\n",
    "\n",
    "- Python\n",
    "- R\n",
    "- SQL\n",
    "- Julia\n",
    "- Scala"
   ]
  },
  {
   "cell_type": "markdown",
   "id": "765069df",
   "metadata": {},
   "source": [
    "## Bibliotecas Populares en Ciencia de Datos\n",
    "\n",
    "- Pandas\n",
    "- NumPy\n",
    "- Matplotlib\n",
    "- Scikit-learn\n",
    "- TensorFlow"
   ]
  },
  {
   "cell_type": "markdown",
   "id": "5497c64a",
   "metadata": {},
   "source": [
    "## Herramientas de Ciencia de Datos\n",
    "\n",
    "| Herramienta        | Tipo                  |\n",
    "|--------------------|-----------------------|\n",
    "| Jupyter Notebooks  | Entorno de desarrollo |\n",
    "| RStudio            | IDE                   |\n",
    "| Apache Spark       | Procesamiento Big Data|\n",
    "| TensorFlow         | Biblioteca ML         |\n",
    "| Tableau            | Visualización         |"
   ]
  },
  {
   "cell_type": "markdown",
   "id": "e5817b7c",
   "metadata": {},
   "source": [
    "## Ejemplos de Expresiones Aritméticas\n",
    "\n",
    "- Suma: `3 + 5 = 8`\n",
    "- Resta: `10 - 4 = 6`\n",
    "- Multiplicación: `7 * 6 = 42`\n",
    "- División: `8 / 2 = 4.0`"
   ]
  },
  {
   "cell_type": "code",
   "execution_count": null,
   "id": "44c994c3",
   "metadata": {},
   "outputs": [],
   "source": [
    "# Multiplicación y suma\n",
    "a = 5\n",
    "b = 3\n",
    "multiplicación = a * b\n",
    "suma = a + b\n",
    "print(\"Multiplicación:\", multiplicación)\n",
    "print(\"Suma:\", suma)"
   ]
  },
  {
   "cell_type": "code",
   "execution_count": null,
   "id": "d92be964",
   "metadata": {},
   "outputs": [],
   "source": [
    "# Conversión de minutos a horas\n",
    "minutos = 200\n",
    "horas = minutos / 60\n",
    "print(\"Horas:\", horas)"
   ]
  },
  {
   "cell_type": "code",
   "execution_count": null,
   "id": "284d20d6",
   "metadata": {},
   "outputs": [],
   "source": [
    "# Lista de objetivos del curso\n",
    "objetivos = [\"Entender los conceptos básicos de ciencia de datos\",\n",
    "             \"Aprender a usar herramientas como Jupyter y GitHub\",\n",
    "             \"Aplicar código en Python para resolver problemas\",\n",
    "             \"Visualizar datos de manera efectiva\"]\n",
    "for objetivo in objetivos:\n",
    "    print(\"-\", objetivo)"
   ]
  },
  {
   "cell_type": "markdown",
   "id": "9ecf5ea4",
   "metadata": {},
   "source": [
    "**Autor:** Nombre Apellido"
   ]
  }
 ],
 "metadata": {},
 "nbformat": 4,
 "nbformat_minor": 5
} Elva Alejandra Manjarrez Granados

